{
 "cells": [
  {
   "cell_type": "code",
   "execution_count": null,
   "metadata": {},
   "outputs": [],
   "source": [
    "import numpy as np\n",
    "from common.functions import softmax\n",
    "\n",
    "class Softmax:\n",
    "    def __init__(self):\n",
    "        self.params, self.grads = [], []\n",
    "        self.out = None\n",
    "\n",
    "    def forward(self, x):\n",
    "        self.out = softmax(x)\n",
    "        return self.out\n",
    "\n",
    "    def backward(self, dout):\n",
    "        dx = self.out*dout\n",
    "        # ↓参照：[1]\n",
    "        sumdx = np.sum(dx,axis=1,keepdims=True)\n",
    "        dx -= self.out*sumdx\n",
    "        return dx\n",
    "\n",
    "    \n"
   ]
  },
  {
   "cell_type": "markdown",
   "metadata": {},
   "source": [
    "## softmax関数\n",
    "$y_i=\\frac{exp(z_i)}{\\sum_{i}exp(z_j)}$\n",
    "\n",
    "## [1] sumdx = np.sum(dx,axis=1,keepdims=True)\n",
    "- ここでは，softmaxの各特徴量毎の値の和を計算している。\n",
    "- axis=1の場合は列の要素で和を取り，行毎に和が格納される\n",
    "- keepdims=Trueをしないと，配列の次元が一つ減るため計算ができなくなる\n",
    "```python\n",
    "# input\n",
    "np.sum([[1, 2, 3],\n",
    "        [4, 5, 6]], axis=1)\n",
    "\n",
    "# output\n",
    "[6, 15]\n",
    "\n",
    "```\n"
   ]
  },
  {
   "cell_type": "code",
   "execution_count": null,
   "metadata": {},
   "outputs": [],
   "source": [
    "if __name__==\"__main__\":\n",
    "    x = np.arange(2*3).reshape(2, 3)\n",
    "    print(\"x\\n\", x)\n",
    "    \n",
    "    sf = Softmax()   \n",
    "    out = sf.forward(x)    \n",
    "    print(\"out\\n\", out)\n",
    "    \n",
    "    dout = np.arange(2*3).reshape(2, 3)\n",
    "    print(\"dout\\n\", dout)    \n",
    "    dx = sf.backward(dout)    \n",
    "    print(\"dx\\n\", dx)    "
   ]
  }
 ],
 "metadata": {
  "language_info": {
   "name": "python"
  }
 },
 "nbformat": 4,
 "nbformat_minor": 2
}
